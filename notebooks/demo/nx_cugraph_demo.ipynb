{
 "cells": [
  {
   "cell_type": "markdown",
   "metadata": {},
   "source": [
    "# `nx-cugraph`: Accelerating graph analysis on networkX "
   ]
  },
  {
   "cell_type": "markdown",
   "metadata": {},
   "source": [
    "In this notebook, we will show you how to use `nx-cugraph`, a collaboration between cuGraph and NetworkX, to accelerate graph analytics for NetworkX users.\n",
    "\n",
    "Recently, NetworkX introduced a dispatcher that allows users to dispatch their workload to different backends. `nx-cugraph` is one of these backends, and uses GPU compute resources provided by `cugraph` to greatly improve performance.\n",
    "\n",
    "The main requirements for using `nx-cugraph` are \n",
    "- Python versions 3.9, 3.10, or 3.11\n",
    "- The latest development version of NetworkX\n",
    "- cuGraph version 23.10 (nightly) \n",
    "\n",
    "Follow the instructions from `INSTALL.rst` on the NetworkX repository for instructions on installing the development version of `networkx`, which is `networkx-3.2rc0-dev0`."
   ]
  },
  {
   "cell_type": "code",
   "execution_count": null,
   "metadata": {},
   "outputs": [],
   "source": [
    "!pip show networkx"
   ]
  },
  {
   "cell_type": "code",
   "execution_count": null,
   "metadata": {},
   "outputs": [],
   "source": [
    "!pip show cugraph"
   ]
  },
  {
   "cell_type": "markdown",
   "metadata": {
    "tags": []
   },
   "source": [
    "## Installing the latest development version of networkx"
   ]
  },
  {
   "cell_type": "markdown",
   "metadata": {},
   "source": [
    "The following cells will\n",
    "- uninstall the current version of networkx \n",
    "- clone the networkx repository one directory below the current working directory\n",
    "- upgrade networkx to be the current development version with `pip install`\n",
    "\n",
    "You may need to restart the kernel to have the development version of networkX be visible."
   ]
  },
  {
   "cell_type": "code",
   "execution_count": null,
   "metadata": {},
   "outputs": [],
   "source": [
    "!pip uninstall --yes networkx"
   ]
  },
  {
   "cell_type": "code",
   "execution_count": null,
   "metadata": {},
   "outputs": [],
   "source": [
    "# Skip if current networkx repository already exists\n",
    "!(cd ..; \\\n",
    "git clone https://github.com/networkx/networkx.git)"
   ]
  },
  {
   "cell_type": "code",
   "execution_count": null,
   "metadata": {},
   "outputs": [],
   "source": [
    "!(cd ../networkx; \\\n",
    "pip install --upgrade --target=/opt/conda/envs/rapids/lib/python3.10/site-packages -e .[default])\n",
    "# below: old pip install command,\n",
    "# pip install --target=/opt/conda/envs/rapids/lib/python3.10/site-packages -e .[default])"
   ]
  },
  {
   "cell_type": "code",
   "execution_count": null,
   "metadata": {},
   "outputs": [],
   "source": [
    "!pip show networkx"
   ]
  },
  {
   "cell_type": "markdown",
   "metadata": {
    "tags": []
   },
   "source": [
    "## Using networkx"
   ]
  },
  {
   "cell_type": "code",
   "execution_count": null,
   "metadata": {},
   "outputs": [],
   "source": [
    "import networkx as nx\n",
    "import pandas as pd\n",
    "# from cugraph.datasets import hollywood"
   ]
  },
  {
   "cell_type": "code",
   "execution_count": null,
   "metadata": {},
   "outputs": [],
   "source": [
    "nx.__version__, pd.__version__"
   ]
  },
  {
   "cell_type": "markdown",
   "metadata": {},
   "source": [
    "The 'email-Eu-core' dataset, made up of anonymized email data from a large European institution, is a directed graph with 25571 edges and 1005 nodes. The following block reads this dataset into a networkx.Graph object. We then measure the performance of the call to betweenness centrality with an approximation of k=50 node samples, about 5% of the nodes."
   ]
  },
  {
   "cell_type": "code",
   "execution_count": null,
   "metadata": {},
   "outputs": [],
   "source": [
    "df = pd.read_csv(\"datasets/email-Eu-core.csv\", header=None, names=['src', 'dst', 'wgt'], sep=' ')\n",
    "Gnx = nx.from_pandas_edgelist(df, source='src', target='dst', create_using=nx.Graph)"
   ]
  },
  {
   "cell_type": "code",
   "execution_count": null,
   "metadata": {},
   "outputs": [],
   "source": [
    "# Use instead of above cell if benchmark datasets are added\n",
    "Gnx = hollywood.get_graph(create_using=nx.Graph)"
   ]
  },
  {
   "cell_type": "code",
   "execution_count": null,
   "metadata": {},
   "outputs": [],
   "source": [
    "%%timeit\n",
    "bc = nx.betweenness_centrality(Gnx, k=50)"
   ]
  },
  {
   "cell_type": "markdown",
   "metadata": {},
   "source": [
    "Running betweenness_centrality using native networkX on the email-Eu-core dataset took around XXX. You, as the user, can choose the backend as an optional argument, providing you've installing your specific library, as seen below. A dispatchable networkX algorithm will use the chosen dispatcher to convert networkx Graph to the backend equivalent, dispatch the work, then convert back to the required nx form."
   ]
  },
  {
   "cell_type": "code",
   "execution_count": null,
   "metadata": {},
   "outputs": [],
   "source": [
    "import nx_cugraph as nxcg"
   ]
  },
  {
   "cell_type": "code",
   "execution_count": null,
   "metadata": {},
   "outputs": [],
   "source": [
    "nx.__version__, pd.__version__, nxcg.__version__"
   ]
  },
  {
   "cell_type": "code",
   "execution_count": null,
   "metadata": {},
   "outputs": [],
   "source": [
    "%%timeit\n",
    "bc = nx.betweenness_centrality(Gnx, k=50, backend='cugraph')"
   ]
  },
  {
   "cell_type": "markdown",
   "metadata": {},
   "source": [
    "## Customization"
   ]
  },
  {
   "cell_type": "markdown",
   "metadata": {},
   "source": [
    "You can also use certain environment variable to control your backend choice, fallback settings, and testing options\n",
    "- NETWORKX_TEST_BACKEND - (was previously NETWORKX_GRAPH_CONVERT) \n",
    "- NETWORKX_FALLBACK_TO_NX - if True, then networkx will be used if an algorithm isn't supported by the chosen backend\n",
    "- NETWORKX_AUTOMATIC_BACKENDS - Enables automatic conversions to backends"
   ]
  },
  {
   "cell_type": "markdown",
   "metadata": {},
   "source": [
    "This approach is easy to use, since you change only the algorithmic calls in your workload without restructuring the rest of your work. You can specify when and where to use the backend this way. While an optional argument is convenient, there might be scenarios where you don't want to edit your script or pipeline. Fortunately, the dispatcher allows for environment variables to configure your backend, fallback, and acceleration preferences."
   ]
  },
  {
   "cell_type": "markdown",
   "metadata": {},
   "source": [
    "### Utilities"
   ]
  },
  {
   "cell_type": "markdown",
   "metadata": {},
   "source": [
    "The `nx-cugraph` package allows conversion from networkx Graph objects to cugraph-compatible Graph objects. They are distinct from cugraph Graph objects and are more limited, but as the backend grows, so will its capabilities."
   ]
  },
  {
   "cell_type": "code",
   "execution_count": null,
   "metadata": {},
   "outputs": [],
   "source": [
    "%%timeit\n",
    "Gcg = nxcg.from_networkx(Gnx)"
   ]
  },
  {
   "cell_type": "code",
   "execution_count": null,
   "metadata": {},
   "outputs": [],
   "source": [
    "Gcg = nxcg.from_networkx(Gnx)"
   ]
  },
  {
   "cell_type": "code",
   "execution_count": null,
   "metadata": {},
   "outputs": [],
   "source": [
    "%%timeit\n",
    "res = nx.betweenness_centrality(Gcg, k=50)"
   ]
  },
  {
   "cell_type": "markdown",
   "metadata": {},
   "source": [
    "## What algorithms are supported?"
   ]
  },
  {
   "cell_type": "markdown",
   "metadata": {},
   "source": [
    "|        Algorithm            |  Type         | Implemented |   Notes\n",
    "| ----------------------------|---------------|-------------| ---------\n",
    "| Betweeneess Centrality      | Centrality    |      X      | cuGraph 23.10 nightly         \n",
    "| Edge Betweenness Centrality | Centrality    |      X      | cuGraph 23.10 nightly\n",
    "| Louvain                     | Community     |      X      | cuGraph 23.10 nightly"
   ]
  },
  {
   "cell_type": "markdown",
   "metadata": {},
   "source": [
    "## Future plans"
   ]
  },
  {
   "cell_type": "markdown",
   "metadata": {},
   "source": [
    "We want to get your feedback! As this project develops, we want you to voice your opinions on which algorithms we should prioritize."
   ]
  }
 ],
 "metadata": {
  "kernelspec": {
   "display_name": "Python 3 (ipykernel)",
   "language": "python",
   "name": "python3"
  },
  "language_info": {
   "codemirror_mode": {
    "name": "ipython",
    "version": 3
   },
   "file_extension": ".py",
   "mimetype": "text/x-python",
   "name": "python",
   "nbconvert_exporter": "python",
   "pygments_lexer": "ipython3",
   "version": "3.10.11"
  }
 },
 "nbformat": 4,
 "nbformat_minor": 4
}

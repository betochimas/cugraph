{
 "cells": [
  {
   "cell_type": "markdown",
   "metadata": {},
   "source": [
    "# How to use `cugraph-nx` to accelerate graph analysis while using networkX "
   ]
  },
  {
   "cell_type": "markdown",
   "metadata": {},
   "source": [
    "Using the cugraph plugin for NetworkX requires Python 3.9, 3.10, or 3.11, in addition to the latest development version of NetworkX. Follow the instructions from `INSTALL.rst` on the NetworkX repository for instructions on installing the development version of `networkx`"
   ]
  },
  {
   "cell_type": "markdown",
   "metadata": {},
   "source": [
    "First, check which version of networkx you have installed. The cugraph plugin is only on the development version of NetworkX, `networkx-3.2rc0-dev0`. If the below command does not show this version, you will need to follow the instructions from `INSTALL.rst` on the NetworkX repository."
   ]
  },
  {
   "cell_type": "code",
   "execution_count": 3,
   "metadata": {},
   "outputs": [
    {
     "name": "stdout",
     "output_type": "stream",
     "text": [
      "Name: networkx\n",
      "Version: 2.8.8\n",
      "Summary: Python package for creating and manipulating graphs and networks\n",
      "Home-page: https://networkx.org/\n",
      "Author: Aric Hagberg\n",
      "Author-email: hagberg@lanl.gov\n",
      "License: \n",
      "Location: /opt/conda/envs/rapids/lib/python3.10/site-packages\n",
      "Requires: \n",
      "Required-by: cfn-lint, mapclassify, osmnx, python-louvain, scikit-image\n"
     ]
    }
   ],
   "source": [
    "!pip show networkx"
   ]
  },
  {
   "cell_type": "markdown",
   "metadata": {
    "jp-MarkdownHeadingCollapsed": true,
    "tags": []
   },
   "source": [
    "## FOR REPRODUCIBILITY / DEV WORK / TEMP"
   ]
  },
  {
   "cell_type": "markdown",
   "metadata": {},
   "source": [
    "The following cells will\n",
    "- uninstall the current version of networkx \n",
    "- clone the networkx repository one directory below the current working directory\n",
    "- upgrade networkx to be the current development version with `pip install`\n",
    "\n",
    "You may need to restart the kernel to have the development version of networkX be visible."
   ]
  },
  {
   "cell_type": "code",
   "execution_count": 5,
   "metadata": {},
   "outputs": [
    {
     "name": "stdout",
     "output_type": "stream",
     "text": [
      "\u001b[33mWARNING: Skipping networkx as it is not installed.\u001b[0m\u001b[33m\n",
      "\u001b[0m\u001b[33mWARNING: Running pip as the 'root' user can result in broken permissions and conflicting behaviour with the system package manager. It is recommended to use a virtual environment instead: https://pip.pypa.io/warnings/venv\u001b[0m\u001b[33m\n",
      "\u001b[0m"
     ]
    }
   ],
   "source": [
    "!pip uninstall --yes networkx"
   ]
  },
  {
   "cell_type": "code",
   "execution_count": 12,
   "metadata": {},
   "outputs": [
    {
     "name": "stdout",
     "output_type": "stream",
     "text": [
      "Cloning into 'networkx'...\n",
      "remote: Enumerating objects: 65975, done.\u001b[K\n",
      "remote: Counting objects: 100% (33/33), done.\u001b[K\n",
      "remote: Compressing objects: 100% (31/31), done.\u001b[K\n",
      "remote: Total 65975 (delta 3), reused 4 (delta 2), pack-reused 65942\u001b[K\n",
      "Receiving objects: 100% (65975/65975), 91.34 MiB | 17.01 MiB/s, done.\n",
      "Resolving deltas: 100% (43970/43970), done.\n"
     ]
    }
   ],
   "source": [
    "# Skip if current networkx repository already exists\n",
    "!(cd ..; \\\n",
    "git clone https://github.com/networkx/networkx.git)"
   ]
  },
  {
   "cell_type": "code",
   "execution_count": 6,
   "metadata": {},
   "outputs": [
    {
     "name": "stdout",
     "output_type": "stream",
     "text": [
      "Obtaining file:///dylanc/week4/networkx\n",
      "  Installing build dependencies ... \u001b[?25ldone\n",
      "\u001b[?25h  Checking if build backend supports build_editable ... \u001b[?25ldone\n",
      "\u001b[?25h  Getting requirements to build editable ... \u001b[?25ldone\n",
      "\u001b[?25h  Installing backend dependencies ... \u001b[?25ldone\n",
      "\u001b[?25h  Preparing editable metadata (pyproject.toml) ... \u001b[?25ldone\n",
      "\u001b[?25hCollecting numpy>=1.22 (from networkx==3.2rc0.dev0)\n",
      "  Downloading numpy-1.25.2-cp310-cp310-manylinux_2_17_x86_64.manylinux2014_x86_64.whl (18.2 MB)\n",
      "\u001b[2K     \u001b[90m━━━━━━━━━━━━━━━━━━━━━━━━━━━━━━━━━━━━━━━━\u001b[0m \u001b[32m18.2/18.2 MB\u001b[0m \u001b[31m22.1 MB/s\u001b[0m eta \u001b[36m0:00:00\u001b[0m00:01\u001b[0m00:01\u001b[0m\n",
      "\u001b[?25hCollecting scipy!=1.11.0,!=1.11.1,>=1.9 (from networkx==3.2rc0.dev0)\n",
      "  Downloading scipy-1.11.2-cp310-cp310-manylinux_2_17_x86_64.manylinux2014_x86_64.whl (36.3 MB)\n",
      "\u001b[2K     \u001b[90m━━━━━━━━━━━━━━━━━━━━━━━━━━━━━━━━━━━━━━━━\u001b[0m \u001b[32m36.3/36.3 MB\u001b[0m \u001b[31m18.7 MB/s\u001b[0m eta \u001b[36m0:00:00\u001b[0m00:01\u001b[0m00:01\u001b[0m\n",
      "\u001b[?25hCollecting matplotlib>=3.5 (from networkx==3.2rc0.dev0)\n",
      "  Downloading matplotlib-3.7.2-cp310-cp310-manylinux_2_17_x86_64.manylinux2014_x86_64.whl (11.6 MB)\n",
      "\u001b[2K     \u001b[90m━━━━━━━━━━━━━━━━━━━━━━━━━━━━━━━━━━━━━━━━\u001b[0m \u001b[32m11.6/11.6 MB\u001b[0m \u001b[31m33.3 MB/s\u001b[0m eta \u001b[36m0:00:00\u001b[0m00:01\u001b[0m00:01\u001b[0m\n",
      "\u001b[?25hCollecting pandas>=1.4 (from networkx==3.2rc0.dev0)\n",
      "  Downloading pandas-2.0.3-cp310-cp310-manylinux_2_17_x86_64.manylinux2014_x86_64.whl (12.3 MB)\n",
      "\u001b[2K     \u001b[90m━━━━━━━━━━━━━━━━━━━━━━━━━━━━━━━━━━━━━━━━\u001b[0m \u001b[32m12.3/12.3 MB\u001b[0m \u001b[31m41.6 MB/s\u001b[0m eta \u001b[36m0:00:00\u001b[0m00:01\u001b[0m00:01\u001b[0m\n",
      "\u001b[?25hCollecting contourpy>=1.0.1 (from matplotlib>=3.5->networkx==3.2rc0.dev0)\n",
      "  Downloading contourpy-1.1.0-cp310-cp310-manylinux_2_17_x86_64.manylinux2014_x86_64.whl (300 kB)\n",
      "\u001b[2K     \u001b[90m━━━━━━━━━━━━━━━━━━━━━━━━━━━━━━━━━━━━━━\u001b[0m \u001b[32m300.7/300.7 kB\u001b[0m \u001b[31m40.3 MB/s\u001b[0m eta \u001b[36m0:00:00\u001b[0m\n",
      "\u001b[?25hCollecting cycler>=0.10 (from matplotlib>=3.5->networkx==3.2rc0.dev0)\n",
      "  Downloading cycler-0.11.0-py3-none-any.whl (6.4 kB)\n",
      "Collecting fonttools>=4.22.0 (from matplotlib>=3.5->networkx==3.2rc0.dev0)\n",
      "  Downloading fonttools-4.42.1-cp310-cp310-manylinux_2_17_x86_64.manylinux2014_x86_64.whl (4.5 MB)\n",
      "\u001b[2K     \u001b[90m━━━━━━━━━━━━━━━━━━━━━━━━━━━━━━━━━━━━━━━━\u001b[0m \u001b[32m4.5/4.5 MB\u001b[0m \u001b[31m48.2 MB/s\u001b[0m eta \u001b[36m0:00:00\u001b[0m00:01\u001b[0m00:01\u001b[0m\n",
      "\u001b[?25hCollecting kiwisolver>=1.0.1 (from matplotlib>=3.5->networkx==3.2rc0.dev0)\n",
      "  Downloading kiwisolver-1.4.5-cp310-cp310-manylinux_2_12_x86_64.manylinux2010_x86_64.whl (1.6 MB)\n",
      "\u001b[2K     \u001b[90m━━━━━━━━━━━━━━━━━━━━━━━━━━━━━━━━━━━━━━━━\u001b[0m \u001b[32m1.6/1.6 MB\u001b[0m \u001b[31m51.0 MB/s\u001b[0m eta \u001b[36m0:00:00\u001b[0m\n",
      "\u001b[?25hCollecting packaging>=20.0 (from matplotlib>=3.5->networkx==3.2rc0.dev0)\n",
      "  Downloading packaging-23.1-py3-none-any.whl (48 kB)\n",
      "\u001b[2K     \u001b[90m━━━━━━━━━━━━━━━━━━━━━━━━━━━━━━━━━━━━━━━━\u001b[0m \u001b[32m48.9/48.9 kB\u001b[0m \u001b[31m15.0 MB/s\u001b[0m eta \u001b[36m0:00:00\u001b[0m\n",
      "\u001b[?25hCollecting pillow>=6.2.0 (from matplotlib>=3.5->networkx==3.2rc0.dev0)\n",
      "  Downloading Pillow-10.0.0-cp310-cp310-manylinux_2_28_x86_64.whl (3.4 MB)\n",
      "\u001b[2K     \u001b[90m━━━━━━━━━━━━━━━━━━━━━━━━━━━━━━━━━━━━━━━━\u001b[0m \u001b[32m3.4/3.4 MB\u001b[0m \u001b[31m47.6 MB/s\u001b[0m eta \u001b[36m0:00:00\u001b[0m00:01\u001b[0m00:01\u001b[0m\n",
      "\u001b[?25hCollecting pyparsing<3.1,>=2.3.1 (from matplotlib>=3.5->networkx==3.2rc0.dev0)\n",
      "  Downloading pyparsing-3.0.9-py3-none-any.whl (98 kB)\n",
      "\u001b[2K     \u001b[90m━━━━━━━━━━━━━━━━━━━━━━━━━━━━━━━━━━━━━━━━\u001b[0m \u001b[32m98.3/98.3 kB\u001b[0m \u001b[31m24.0 MB/s\u001b[0m eta \u001b[36m0:00:00\u001b[0m\n",
      "\u001b[?25hCollecting python-dateutil>=2.7 (from matplotlib>=3.5->networkx==3.2rc0.dev0)\n",
      "  Downloading python_dateutil-2.8.2-py2.py3-none-any.whl (247 kB)\n",
      "\u001b[2K     \u001b[90m━━━━━━━━━━━━━━━━━━━━━━━━━━━━━━━━━━━━━━\u001b[0m \u001b[32m247.7/247.7 kB\u001b[0m \u001b[31m38.8 MB/s\u001b[0m eta \u001b[36m0:00:00\u001b[0m\n",
      "\u001b[?25hCollecting pytz>=2020.1 (from pandas>=1.4->networkx==3.2rc0.dev0)\n",
      "  Downloading pytz-2023.3-py2.py3-none-any.whl (502 kB)\n",
      "\u001b[2K     \u001b[90m━━━━━━━━━━━━━━━━━━━━━━━━━━━━━━━━━━━━━━\u001b[0m \u001b[32m502.3/502.3 kB\u001b[0m \u001b[31m44.4 MB/s\u001b[0m eta \u001b[36m0:00:00\u001b[0m\n",
      "\u001b[?25hCollecting tzdata>=2022.1 (from pandas>=1.4->networkx==3.2rc0.dev0)\n",
      "  Downloading tzdata-2023.3-py2.py3-none-any.whl (341 kB)\n",
      "\u001b[2K     \u001b[90m━━━━━━━━━━━━━━━━━━━━━━━━━━━━━━━━━━━━━━\u001b[0m \u001b[32m341.8/341.8 kB\u001b[0m \u001b[31m41.7 MB/s\u001b[0m eta \u001b[36m0:00:00\u001b[0m\n",
      "\u001b[?25hCollecting six>=1.5 (from python-dateutil>=2.7->matplotlib>=3.5->networkx==3.2rc0.dev0)\n",
      "  Downloading six-1.16.0-py2.py3-none-any.whl (11 kB)\n",
      "Building wheels for collected packages: networkx\n",
      "  Building editable for networkx (pyproject.toml) ... \u001b[?25ldone\n",
      "\u001b[?25h  Created wheel for networkx: filename=networkx-3.2rc0.dev0-0.editable-py3-none-any.whl size=5792 sha256=4c0d33a6d892cb232958f19819cb5b110d2e35776694197528c713426dcf4a8a\n",
      "  Stored in directory: /tmp/pip-ephem-wheel-cache-qi9att7l/wheels/14/6f/9a/eb2c01d435625f5098e578b9ea2ff35b7adf32b412891496d5\n",
      "Successfully built networkx\n",
      "Installing collected packages: pytz, tzdata, six, pyparsing, pillow, packaging, numpy, networkx, kiwisolver, fonttools, cycler, scipy, python-dateutil, contourpy, pandas, matplotlib\n",
      "\u001b[31mERROR: pip's dependency resolver does not currently take into account all the packages that are installed. This behaviour is the source of the following dependency conflicts.\n",
      "cudf 23.6.0 requires cupy-cuda11x>=12.0.0, which is not installed.\n",
      "cugraph 23.6.0 requires cupy-cuda11x>=12.0.0, which is not installed.\n",
      "cugraph-service-server 23.6.0 requires cupy-cuda11x>=12.0.0, which is not installed.\n",
      "cuml 23.6.0 requires cupy-cuda11x>=12.0.0, which is not installed.\n",
      "dask-cudf 23.6.0 requires cupy-cuda11x>=12.0.0, which is not installed.\n",
      "transformers 2.1.1 requires sentencepiece, which is not installed.\n",
      "cfn-lint 0.75.1 requires aws-sam-translator>=1.60.1, but you have aws-sam-translator 1.55.0 which is incompatible.\n",
      "cudf 23.6.0 requires pandas<1.6.0dev0,>=1.3, but you have pandas 2.0.3 which is incompatible.\n",
      "dask-cudf 23.6.0 requires pandas<1.6.0dev0,>=1.3, but you have pandas 2.0.3 which is incompatible.\n",
      "numba 0.57.0 requires numpy<1.25,>=1.21, but you have numpy 1.25.2 which is incompatible.\n",
      "dask-cuda 23.6.0a0+gaf05c73 requires pandas<1.6.0dev0,>=1.3, but you have pandas 2.0.3 which is incompatible.\n",
      "dask-cuda 23.6.0a0+gaf05c73 requires pynvml<11.5,>=11.0.0, but you have pynvml 11.5.0 which is incompatible.\u001b[0m\u001b[31m\n",
      "\u001b[0mSuccessfully installed contourpy-1.1.0 cycler-0.11.0 fonttools-4.42.1 kiwisolver-1.4.5 matplotlib-3.7.2 networkx-3.2rc0.dev0 numpy-1.25.2 packaging-23.1 pandas-2.0.3 pillow-10.0.0 pyparsing-3.0.9 python-dateutil-2.8.2 pytz-2023.3 scipy-1.11.2 six-1.16.0 tzdata-2023.3\n",
      "\u001b[33mWARNING: Running pip as the 'root' user can result in broken permissions and conflicting behaviour with the system package manager. It is recommended to use a virtual environment instead: https://pip.pypa.io/warnings/venv\u001b[0m\u001b[33m\n",
      "\u001b[0m"
     ]
    }
   ],
   "source": [
    "!(cd ../networkx; \\\n",
    "pip install --upgrade --target=/opt/conda/envs/rapids/lib/python3.10/site-packages -e .[default])\n",
    "# below: old pip install command,\n",
    "# pip install --target=/opt/conda/envs/rapids/lib/python3.10/site-packages -e .[default])"
   ]
  },
  {
   "cell_type": "code",
   "execution_count": 10,
   "metadata": {},
   "outputs": [
    {
     "name": "stdout",
     "output_type": "stream",
     "text": [
      "Name: networkx\n",
      "Version: 3.2rc0.dev0\n",
      "Summary: Python package for creating and manipulating graphs and networks\n",
      "Home-page: \n",
      "Author: \n",
      "Author-email: Aric Hagberg <hagberg@lanl.gov>\n",
      "License: \n",
      "Location: /opt/conda/envs/rapids/lib/python3.10/site-packages\n",
      "Editable project location: /dylanc/week4/networkx\n",
      "Requires: \n",
      "Required-by: cfn-lint, mapclassify, osmnx, python-louvain, scikit-image\n"
     ]
    }
   ],
   "source": [
    "!pip show networkx"
   ]
  },
  {
   "cell_type": "code",
   "execution_count": 1,
   "metadata": {},
   "outputs": [
    {
     "data": {
      "text/plain": [
       "(<module 'networkx' from '/dylanc/week4/networkx/networkx/__init__.py'>,\n",
       " '3.2rc0.dev0')"
      ]
     },
     "execution_count": 1,
     "metadata": {},
     "output_type": "execute_result"
    }
   ],
   "source": [
    "import networkx\n",
    "networkx, networkx.__version__"
   ]
  },
  {
   "cell_type": "markdown",
   "metadata": {},
   "source": [
    "## Using cugraph backend"
   ]
  },
  {
   "cell_type": "code",
   "execution_count": 21,
   "metadata": {},
   "outputs": [],
   "source": [
    "import networkx as nx\n",
    "import pandas as pd"
   ]
  },
  {
   "cell_type": "code",
   "execution_count": 14,
   "metadata": {},
   "outputs": [
    {
     "data": {
      "text/plain": [
       "('3.2rc0.dev0', '2.0.3')"
      ]
     },
     "execution_count": 14,
     "metadata": {},
     "output_type": "execute_result"
    }
   ],
   "source": [
    "nx, nx.__version__, pd.__version__"
   ]
  },
  {
   "cell_type": "code",
   "execution_count": 15,
   "metadata": {},
   "outputs": [],
   "source": [
    "df = pd.read_csv(\"datasets/dolphins.csv\", header=None, names=['src', 'dst', 'wgt'], sep=' ')\n",
    "Gnx = nx.from_pandas_edgelist(df, source='src', target='dst', create_using=nx.Graph())"
   ]
  },
  {
   "cell_type": "code",
   "execution_count": 16,
   "metadata": {},
   "outputs": [
    {
     "name": "stdout",
     "output_type": "stream",
     "text": [
      "14 ms ± 400 µs per loop (mean ± std. dev. of 7 runs, 100 loops each)\n"
     ]
    }
   ],
   "source": [
    "%%timeit\n",
    "bc = nx.betweenness_centrality(Gnx)"
   ]
  },
  {
   "cell_type": "markdown",
   "metadata": {
    "tags": []
   },
   "source": [
    "## Build cugraph / not required?"
   ]
  },
  {
   "cell_type": "code",
   "execution_count": 23,
   "metadata": {},
   "outputs": [
    {
     "name": "stdout",
     "output_type": "stream",
     "text": [
      "Name: cugraph\n",
      "Version: 23.6.0\n",
      "Summary: cuGraph - RAPIDS GPU Graph Analytics\n",
      "Home-page: \n",
      "Author: NVIDIA Corporation\n",
      "Author-email: \n",
      "License: Apache 2.0\n",
      "Location: /opt/conda/envs/rapids/lib/python3.10/site-packages\n",
      "Requires: cudf, cupy-cuda11x, dask, dask-cuda, dask-cudf, distributed, numba, pylibcugraph, raft-dask, rmm, ucx-py\n",
      "Required-by: cugraph-dgl, cugraph-pyg, cugraph-service-server\n"
     ]
    }
   ],
   "source": [
    "!pip show cugraph"
   ]
  },
  {
   "cell_type": "code",
   "execution_count": 24,
   "metadata": {},
   "outputs": [
    {
     "name": "stdout",
     "output_type": "stream",
     "text": [
      "Building for the architecture of the GPU in the system...\n",
      "-- Auto detection of gpu-archs: 70\n",
      "\u001b[0m-- Building for GPU_ARCHS = 70-real\u001b[0m\n",
      "-- CPM: adding package libcudacxx@1.9.1 (branch/1.9.1)\n",
      "-- rapids-cmake [libcudacxx]: applied diff install_rules.diff to fix issue: 'libcudacxx 1.X installs incorrect files [https://github.com/NVIDIA/libcudacxx/pull/428]'\n",
      "-- rapids-cmake [libcudacxx]: applied diff reroot_support.diff to fix issue: 'Support conda-forge usage of CMake rerooting [https://github.com/NVIDIA/libcudacxx/pull/490]'\n",
      "-- CPM: using local package cuco@0.0.1\n",
      "-- CPM: using local package raft@23.10.0\n",
      "-- CPM: using local package cugraph-ops@23.10.0\n",
      "-- Configuring done (51.0s)\n",
      "\u001b[33mCMake Warning at CMakeLists.txt:304 (add_library):\n",
      "  Cannot generate a safe runtime search path for target cugraph because files\n",
      "  in some directories may conflict with libraries in implicit directories:\n",
      "\n",
      "    runtime library [libcugraph-ops++.so] in /opt/conda/envs/all_cuda-120_arch-x86_64/lib may be hidden by files in:\n",
      "      /opt/conda/envs/rapids/lib\n",
      "    runtime library [libraft.so] in /opt/conda/envs/all_cuda-120_arch-x86_64/lib may be hidden by files in:\n",
      "      /opt/conda/envs/rapids/lib\n",
      "    runtime library [libfmt.so.9] in /opt/conda/envs/all_cuda-120_arch-x86_64/lib may be hidden by files in:\n",
      "      /opt/conda/envs/rapids/lib\n",
      "    runtime library [libgomp.so.1] in /opt/conda/envs/all_cuda-120_arch-x86_64/lib may be hidden by files in:\n",
      "      /opt/conda/envs/rapids/lib\n",
      "\n",
      "  Some of these libraries may not be found correctly.\n",
      "\n",
      "\u001b[0m\n",
      "-- Generating done (0.5s)\n",
      "-- Build files have been written to: /dylanc/week4/cugraph/cpp/build\n",
      "[115/138] Linking CXX shared library libcugraph.so\u001b[Kity/triangle_count_mg.cu.o\u001b[KK\n",
      "/opt/conda/envs/all_cuda-120_arch-x86_64/bin/../lib/gcc/x86_64-conda-linux-gnu/11.4.0/../../../../x86_64-conda-linux-gnu/bin/ld: warning: /dylanc/week4/cugraph/cpp/build/fatbin.ld contains output sections; did you forget -T?\n",
      "[137/138] Linking CXX shared library libcugraph_c.so\u001b[Knnected_components.cpp.o\u001b[K\n",
      "/opt/conda/envs/all_cuda-120_arch-x86_64/bin/../lib/gcc/x86_64-conda-linux-gnu/11.4.0/../../../../x86_64-conda-linux-gnu/bin/ld: warning: /dylanc/week4/cugraph/cpp/build/fatbin.ld contains output sections; did you forget -T?\n",
      "[137/138] Install the project...\u001b[K\n",
      "-- Install configuration: \"Release\"\n",
      "-- Installing: /opt/conda/envs/rapids/lib/libcugraph.so\n",
      "-- Set runtime path of \"/opt/conda/envs/rapids/lib/libcugraph.so\" to \"$ORIGIN\"\n",
      "-- Up-to-date: /opt/conda/envs/rapids/include/cugraph\n",
      "-- Installing: /opt/conda/envs/rapids/include/cugraph/graph_generators.hpp\n",
      "-- Installing: /opt/conda/envs/rapids/include/cugraph/dendrogram.hpp\n",
      "-- Installing: /opt/conda/envs/rapids/include/cugraph/graph.hpp\n",
      "-- Installing: /opt/conda/envs/rapids/include/cugraph/edge_partition_device_view.cuh\n",
      "-- Installing: /opt/conda/envs/rapids/include/cugraph/api_helpers.hpp\n",
      "-- Installing: /opt/conda/envs/rapids/include/cugraph/edge_src_dst_property.hpp\n",
      "-- Installing: /opt/conda/envs/rapids/include/cugraph/graph_mask.hpp\n",
      "-- Installing: /opt/conda/envs/rapids/include/cugraph/algorithms.hpp\n",
      "-- Installing: /opt/conda/envs/rapids/include/cugraph/vertex_partition_view.hpp\n",
      "-- Installing: /opt/conda/envs/rapids/include/cugraph/graph_functions.hpp\n",
      "-- Installing: /opt/conda/envs/rapids/include/cugraph/partition_manager.hpp\n",
      "-- Installing: /opt/conda/envs/rapids/include/cugraph/edge_property.hpp\n",
      "-- Installing: /opt/conda/envs/rapids/include/cugraph/eidecl_graph.hpp\n",
      "-- Up-to-date: /opt/conda/envs/rapids/include/cugraph/detail\n",
      "-- Installing: /opt/conda/envs/rapids/include/cugraph/detail/decompress_edge_partition.cuh\n",
      "-- Installing: /opt/conda/envs/rapids/include/cugraph/detail/utility_wrappers.hpp\n",
      "-- Installing: /opt/conda/envs/rapids/include/cugraph/detail/shuffle_wrappers.hpp\n",
      "-- Installing: /opt/conda/envs/rapids/include/cugraph/edge_partition_endpoint_property_device_view.cuh\n",
      "-- Up-to-date: /opt/conda/envs/rapids/include/cugraph/utilities\n",
      "-- Installing: /opt/conda/envs/rapids/include/cugraph/utilities/packed_bool_utils.hpp\n",
      "-- Installing: /opt/conda/envs/rapids/include/cugraph/utilities/misc_utils.cuh\n",
      "-- Installing: /opt/conda/envs/rapids/include/cugraph/utilities/dataframe_buffer.hpp\n",
      "-- Installing: /opt/conda/envs/rapids/include/cugraph/utilities/thrust_tuple_utils.hpp\n",
      "-- Installing: /opt/conda/envs/rapids/include/cugraph/utilities/high_res_timer.hpp\n",
      "-- Installing: /opt/conda/envs/rapids/include/cugraph/utilities/device_functors.cuh\n",
      "-- Installing: /opt/conda/envs/rapids/include/cugraph/utilities/error.hpp\n",
      "-- Installing: /opt/conda/envs/rapids/include/cugraph/utilities/host_scalar_comm.hpp\n",
      "-- Installing: /opt/conda/envs/rapids/include/cugraph/utilities/graph_traits.hpp\n",
      "-- Installing: /opt/conda/envs/rapids/include/cugraph/utilities/shuffle_comm.cuh\n",
      "-- Installing: /opt/conda/envs/rapids/include/cugraph/utilities/atomic_ops.cuh\n",
      "-- Installing: /opt/conda/envs/rapids/include/cugraph/utilities/path_retrieval.hpp\n",
      "-- Installing: /opt/conda/envs/rapids/include/cugraph/utilities/device_comm.hpp\n",
      "-- Installing: /opt/conda/envs/rapids/include/cugraph/edge_partition_edge_property_device_view.cuh\n",
      "-- Installing: /opt/conda/envs/rapids/include/cugraph/graph_view.hpp\n",
      "-- Installing: /opt/conda/envs/rapids/include/cugraph/vertex_partition_device_view.cuh\n",
      "-- Installing: /opt/conda/envs/rapids/include/cugraph/edge_partition_view.hpp\n",
      "-- Up-to-date: /opt/conda/envs/rapids/include/cugraph/legacy\n",
      "-- Installing: /opt/conda/envs/rapids/include/cugraph/legacy/eidir_graph.hpp\n",
      "-- Installing: /opt/conda/envs/rapids/include/cugraph/legacy/internals.hpp\n",
      "-- Installing: /opt/conda/envs/rapids/include/cugraph/legacy/eidecl_graph.hpp\n",
      "-- Installing: /opt/conda/envs/rapids/include/cugraph/legacy/functions.hpp\n",
      "-- Installing: /opt/conda/envs/rapids/include/cugraph/legacy/graph.hpp\n",
      "-- Installing: /opt/conda/envs/rapids/include/cugraph/version_config.hpp\n",
      "-- Installing: /opt/conda/envs/rapids/lib/libcugraph_c.so\n",
      "-- Set runtime path of \"/opt/conda/envs/rapids/lib/libcugraph_c.so\" to \"$ORIGIN\"\n",
      "-- Up-to-date: /opt/conda/envs/rapids/include/cugraph_c\n",
      "-- Installing: /opt/conda/envs/rapids/include/cugraph_c/similarity_algorithms.h\n",
      "-- Installing: /opt/conda/envs/rapids/include/cugraph_c/graph_generators.h\n",
      "-- Installing: /opt/conda/envs/rapids/include/cugraph_c/array.h\n",
      "-- Installing: /opt/conda/envs/rapids/include/cugraph_c/error.h\n",
      "-- Installing: /opt/conda/envs/rapids/include/cugraph_c/resource_handle.h\n",
      "-- Installing: /opt/conda/envs/rapids/include/cugraph_c/graph.h\n",
      "-- Installing: /opt/conda/envs/rapids/include/cugraph_c/sampling_algorithms.h\n",
      "-- Installing: /opt/conda/envs/rapids/include/cugraph_c/traversal_algorithms.h\n",
      "-- Installing: /opt/conda/envs/rapids/include/cugraph_c/random.h\n",
      "-- Installing: /opt/conda/envs/rapids/include/cugraph_c/labeling_algorithms.h\n",
      "-- Installing: /opt/conda/envs/rapids/include/cugraph_c/centrality_algorithms.h\n",
      "-- Installing: /opt/conda/envs/rapids/include/cugraph_c/algorithms.h\n",
      "-- Installing: /opt/conda/envs/rapids/include/cugraph_c/core_algorithms.h\n",
      "-- Installing: /opt/conda/envs/rapids/include/cugraph_c/community_algorithms.h\n",
      "-- Installing: /opt/conda/envs/rapids/include/cugraph_c/graph_functions.h\n",
      "-- Installing: /opt/conda/envs/rapids/include/cugraph_c/version_config.hpp\n",
      "-- Installing: /opt/conda/envs/rapids/lib/cmake/cugraph/cugraph-targets.cmake\n",
      "-- Installing: /opt/conda/envs/rapids/lib/cmake/cugraph/cugraph-targets-release.cmake\n",
      "-- Up-to-date: /opt/conda/envs/rapids/lib/cmake/cugraph\n",
      "-- Installing: /opt/conda/envs/rapids/lib/cmake/cugraph/cugraph-config.cmake\n",
      "-- Installing: /opt/conda/envs/rapids/lib/cmake/cugraph/cugraph-dependencies.cmake\n",
      "-- Installing: /opt/conda/envs/rapids/lib/cmake/cugraph/cugraph-config-version.cmake\n",
      "Processing /dylanc/week4/cugraph/python/pylibcugraph\n",
      "  Preparing metadata (pyproject.toml) ... \u001b[?25ldone\n",
      "\u001b[?25hBuilding wheels for collected packages: pylibcugraph\n",
      "  Building wheel for pylibcugraph (pyproject.toml) ... \u001b[?25ldone\n",
      "\u001b[?25h  Created wheel for pylibcugraph: filename=pylibcugraph-23.10.0-cp310-cp310-linux_x86_64.whl size=1265713 sha256=c43b2c35005a12bb8124f2eb0bf24911bf42a320b49cd3eeb7037a4ed11abed8\n",
      "  Stored in directory: /tmp/pip-ephem-wheel-cache-pokb3287/wheels/8a/1d/59/154f53b7c4be99f70d30632476440fc23706f2461e7b0a543f\n",
      "Successfully built pylibcugraph\n",
      "Installing collected packages: pylibcugraph\n",
      "  Attempting uninstall: pylibcugraph\n",
      "    Found existing installation: pylibcugraph 23.6.0\n",
      "    Uninstalling pylibcugraph-23.6.0:\n",
      "      Successfully uninstalled pylibcugraph-23.6.0\n",
      "Successfully installed pylibcugraph-23.10.0\n",
      "\u001b[33mWARNING: Running pip as the 'root' user can result in broken permissions and conflicting behaviour with the system package manager. It is recommended to use a virtual environment instead: https://pip.pypa.io/warnings/venv\u001b[0m\u001b[33m\n",
      "\u001b[0mProcessing /dylanc/week4/cugraph/python/cugraph\n",
      "  Preparing metadata (pyproject.toml) ... \u001b[?25ldone\n",
      "\u001b[?25hBuilding wheels for collected packages: cugraph\n",
      "  Building wheel for cugraph (pyproject.toml) ... \u001b[?25ldone\n",
      "\u001b[?25h  Created wheel for cugraph: filename=cugraph-23.10.0-cp310-cp310-linux_x86_64.whl size=3102806 sha256=167ec7cd59de80c59a1ee05693608de904325af48654b83997ff29e034266509\n",
      "  Stored in directory: /tmp/pip-ephem-wheel-cache-rnz1j4xj/wheels/6f/58/c3/f051a503eedce0439823b4e14ac87b72bd66106e9efe951c32\n",
      "Successfully built cugraph\n",
      "Installing collected packages: cugraph\n",
      "  Attempting uninstall: cugraph\n",
      "    Found existing installation: cugraph 23.6.0\n",
      "    Uninstalling cugraph-23.6.0:\n",
      "      Successfully uninstalled cugraph-23.6.0\n",
      "Successfully installed cugraph-23.10.0\n",
      "\u001b[33mWARNING: Running pip as the 'root' user can result in broken permissions and conflicting behaviour with the system package manager. It is recommended to use a virtual environment instead: https://pip.pypa.io/warnings/venv\u001b[0m\u001b[33m\n",
      "\u001b[0mProcessing /dylanc/week4/cugraph/python/cugraph-nx\n",
      "  Preparing metadata (pyproject.toml) ... \u001b[?25ldone\n",
      "\u001b[?25hBuilding wheels for collected packages: cugraph-nx\n",
      "  Building wheel for cugraph-nx (pyproject.toml) ... \u001b[?25ldone\n",
      "\u001b[?25h  Created wheel for cugraph-nx: filename=cugraph_nx-23.10.0-py3-none-any.whl size=29793 sha256=17f00b73818870a2087630a9463b0c820ad5eccbb31da44bdedeca7d6a9ec3e3\n",
      "  Stored in directory: /root/.cache/pip/wheels/55/45/a7/dd1a57e91fa632c8f7cef5a3a85a035374fd53a3cd5de3caae\n",
      "Successfully built cugraph-nx\n",
      "Installing collected packages: cugraph-nx\n",
      "Successfully installed cugraph-nx-23.10.0\n",
      "\u001b[33mWARNING: Running pip as the 'root' user can result in broken permissions and conflicting behaviour with the system package manager. It is recommended to use a virtual environment instead: https://pip.pypa.io/warnings/venv\u001b[0m\u001b[33m\n",
      "\u001b[0m"
     ]
    }
   ],
   "source": [
    "!(./build.sh libcugraph pylibcugraph cugraph cugraph-nx --skip_cpp_tests)"
   ]
  },
  {
   "cell_type": "markdown",
   "metadata": {},
   "source": [
    "## Customization"
   ]
  },
  {
   "cell_type": "markdown",
   "metadata": {},
   "source": [
    "Depending on your graph needs, `networkx` supports the ability to choose your dispatcher. A dispatchable networkX algorithm will use the chosen dispatcher to convert networkx Graph to the backend equivalent, dispatch the work, then convert back to the required nx form. More information here: https://networkx.org/documentation/stable/reference/classes/index.html#backends"
   ]
  },
  {
   "cell_type": "code",
   "execution_count": 17,
   "metadata": {},
   "outputs": [],
   "source": [
    "from networkx.utils import backends"
   ]
  },
  {
   "cell_type": "code",
   "execution_count": 18,
   "metadata": {},
   "outputs": [],
   "source": [
    "# Show how to select the name of the backend you want networkx to dispatch to\n",
    "backends.plugin_name = \"cugraph\"\n",
    "orig_dispatch = backends._dispatch\n",
    "#test_dispatch = backends.test_override_dispatch\n",
    "#dispatch_decorator = orig_dispatch\n",
    "#backends.plugins"
   ]
  },
  {
   "cell_type": "code",
   "execution_count": 20,
   "metadata": {},
   "outputs": [
    {
     "data": {
      "text/plain": [
       "'cugraph'"
      ]
     },
     "execution_count": 20,
     "metadata": {},
     "output_type": "execute_result"
    }
   ],
   "source": [
    "backends.plugin_name"
   ]
  },
  {
   "cell_type": "markdown",
   "metadata": {},
   "source": [
    "## What algorithms are supported?"
   ]
  },
  {
   "cell_type": "markdown",
   "metadata": {},
   "source": [
    "|        Algorithm            |  Type         | Implemented |   Notes\n",
    "| ----------------------------|---------------|-------------| ---------\n",
    "| Betweeneess Centrality      | Centrality    |      X      | cuGraph 23.10 nightly         \n",
    "| Edge Betweenness Centrality | Centrality    |      X      | cuGraph 23.10 nightly\n",
    "| Louvain                     | Community     |             | cuGraph 23.10 nightly (expected)"
   ]
  },
  {
   "cell_type": "markdown",
   "metadata": {},
   "source": [
    "## Future plans"
   ]
  },
  {
   "cell_type": "markdown",
   "metadata": {},
   "source": [
    "We want to get your feedback! As this project develops, we want you to voice your opinions on which algorithms we should prioritize."
   ]
  }
 ],
 "metadata": {
  "kernelspec": {
   "display_name": "Python 3 (ipykernel)",
   "language": "python",
   "name": "python3"
  },
  "language_info": {
   "codemirror_mode": {
    "name": "ipython",
    "version": 3
   },
   "file_extension": ".py",
   "mimetype": "text/x-python",
   "name": "python",
   "nbconvert_exporter": "python",
   "pygments_lexer": "ipython3",
   "version": "3.10.11"
  }
 },
 "nbformat": 4,
 "nbformat_minor": 4
}
